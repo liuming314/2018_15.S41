{
 "cells": [
  {
   "cell_type": "markdown",
   "metadata": {},
   "source": [
    "# The assignment problem\n",
    "\n",
    "Consider the “eHarmony” problem. N men and N women are looking for partners. For each man $i$ and each woman $j$, their “compatibility score” based on personality tests is given by $c_{ij}$. The goal of this assignment is to formulate the problem of finding the matching that maximizes the total compatibility score as an LP and solve it using JuMP."
   ]
  },
  {
   "cell_type": "code",
   "execution_count": 28,
   "metadata": {},
   "outputs": [],
   "source": [
    "using JuMP, Gurobi\n",
    "\n",
    "# couldn't get it to work (spent five hours on it) but here's my code\n",
    "\n",
    "# define some data\n",
    "N = 50\n",
    "srand(1)\n",
    "c = rand(N, N)\n",
    "assignmentPB = Model(solver=GurobiSolver());"
   ]
  },
  {
   "cell_type": "markdown",
   "metadata": {},
   "source": [
    "0) We define the decision variables for the problem $x_{ij}$, where $x_{ij}=1$ means that man $i$ is matched to woman $j$, and $x_{ij}=0$ means that man $i$ is not matched to woman $j$. We did not see how to define binary variables (i.e. variables that can only take the value 1 or 0) in class, so the code is provided below."
   ]
  },
  {
   "cell_type": "code",
   "execution_count": 2,
   "metadata": {},
   "outputs": [],
   "source": [
    "# define the decision variables for the problem\n",
    "@variable(assignmentPB, x[i=1:N,j=1:N], Bin);"
   ]
  },
  {
   "cell_type": "markdown",
   "metadata": {},
   "source": [
    "1) Define a constraint to make sure that every man $i$ is assigned to exactly one woman. Hint: for each man $i$, think about summing the variables $x_{ij}$ over all $j$."
   ]
  },
  {
   "cell_type": "code",
   "execution_count": 54,
   "metadata": {
    "scrolled": true
   },
   "outputs": [
    {
     "ename": "LoadError",
     "evalue": "\u001b[91mIn @constraint(assignmentPB,oneWomanPerMan[i = 1:N],for i = oneWomanPerMan # In[54], line 3:\n    sum(x[i, j] / N) == 1\nend): Constraints must be in one of the following forms:\n       expr1 <= expr2\n       expr1 >= expr2\n       expr1 == expr2\n       lb <= expr <= ub\u001b[39m",
     "output_type": "error",
     "traceback": [
      "\u001b[91mIn @constraint(assignmentPB,oneWomanPerMan[i = 1:N],for i = oneWomanPerMan # In[54], line 3:\n    sum(x[i, j] / N) == 1\nend): Constraints must be in one of the following forms:\n       expr1 <= expr2\n       expr1 >= expr2\n       expr1 == expr2\n       lb <= expr <= ub\u001b[39m",
      "",
      "Stacktrace:",
      " [1] \u001b[1minclude_string\u001b[22m\u001b[22m\u001b[1m(\u001b[22m\u001b[22m::String, ::String\u001b[1m)\u001b[22m\u001b[22m at \u001b[1m./loading.jl:522\u001b[22m\u001b[22m"
     ]
    }
   ],
   "source": [
    "@constraint(assignmentPB, oneWomanPerMan[i=1:N], # write the mathematical constraint here\n",
    "    for i in oneWomanPerMan\n",
    "        (sum(x[i,j]/N)) == 1\n",
    "    end\n",
    "    );"
   ]
  },
  {
   "cell_type": "code",
   "execution_count": 59,
   "metadata": {},
   "outputs": [
    {
     "data": {
      "text/plain": [
       "76"
      ]
     },
     "execution_count": 59,
     "metadata": {},
     "output_type": "execute_result"
    }
   ],
   "source": [
    "sum([2,5,65,4])"
   ]
  },
  {
   "cell_type": "markdown",
   "metadata": {},
   "source": [
    "2) Similarly, define a constraint to make sure that every woman $j$ is assigned to exactly one man. Hint: for each woman $j$, think about summing the variables $x_{ij}$ over all $i$."
   ]
  },
  {
   "cell_type": "code",
   "execution_count": 35,
   "metadata": {},
   "outputs": [],
   "source": [
    "@constraint(assignmentPB, oneManPerWoman[k=1:N], # write the mathematical constraint here\n",
    "    for i in oneManPerWoman\n",
    "        (sum(x[i,j]/N)) == 1\n",
    "    end\n",
    "    );"
   ]
  },
  {
   "cell_type": "markdown",
   "metadata": {},
   "source": [
    "3) Define the objective of the assignment problem. Hint: remember we are trying to maximize the _total_ compatibility score $\\sum_{i=1}^N\\sum_{j=1}^N c_{ij}x_{ij}$. Remember also that in the code, $c_{ij}$ is written as `c[i,j]`."
   ]
  },
  {
   "cell_type": "code",
   "execution_count": null,
   "metadata": {
    "scrolled": true
   },
   "outputs": [],
   "source": [
    "@objective(assignmentPB, Max, \n",
    "    sum(c[i,j]*x for i in x & j in x)\n",
    "    );"
   ]
  },
  {
   "cell_type": "markdown",
   "metadata": {},
   "source": [
    "4) Solve the problem and report the optimal objective value. Hint: use `getobjectivevalue(assignmentPB)` after solving to get the optimal objective."
   ]
  },
  {
   "cell_type": "code",
   "execution_count": 55,
   "metadata": {},
   "outputs": [
    {
     "data": {
      "text/plain": [
       "0"
      ]
     },
     "execution_count": 55,
     "metadata": {},
     "output_type": "execute_result"
    }
   ],
   "source": [
    "solve(assignmentPB)\n",
    "getobjectivevalue(assignmentPB)"
   ]
  }
 ],
 "metadata": {
  "kernelspec": {
   "display_name": "Julia 0.6.2",
   "language": "julia",
   "name": "julia-0.6"
  },
  "language_info": {
   "file_extension": ".jl",
   "mimetype": "application/julia",
   "name": "julia",
   "version": "0.6.2"
  }
 },
 "nbformat": 4,
 "nbformat_minor": 1
}
